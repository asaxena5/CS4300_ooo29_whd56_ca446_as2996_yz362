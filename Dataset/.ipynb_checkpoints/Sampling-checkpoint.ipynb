{
 "cells": [
  {
   "cell_type": "code",
   "execution_count": 1,
   "metadata": {},
   "outputs": [],
   "source": [
    "import pandas as pd"
   ]
  },
  {
   "cell_type": "code",
   "execution_count": 2,
   "metadata": {},
   "outputs": [],
   "source": [
    "recipes = pd.read_csv('files/recipes.csv')"
   ]
  },
  {
   "cell_type": "code",
   "execution_count": 3,
   "metadata": {},
   "outputs": [],
   "source": [
    "reviews = pd.read_csv('files/reviews.csv')"
   ]
  },
  {
   "cell_type": "code",
   "execution_count": 11,
   "metadata": {},
   "outputs": [],
   "source": [
    "sampled_recipes = recipes.sample(frac=0.33)"
   ]
  },
  {
   "cell_type": "code",
   "execution_count": 12,
   "metadata": {},
   "outputs": [
    {
     "data": {
      "text/plain": [
       "(74346, 12)"
      ]
     },
     "execution_count": 12,
     "metadata": {},
     "output_type": "execute_result"
    }
   ],
   "source": [
    "sampled_recipes.shape"
   ]
  },
  {
   "cell_type": "code",
   "execution_count": 13,
   "metadata": {},
   "outputs": [],
   "source": [
    "sampled_recipes.to_csv('files/sampled_recipes.csv',index=False)"
   ]
  },
  {
   "cell_type": "code",
   "execution_count": 14,
   "metadata": {},
   "outputs": [
    {
     "data": {
      "text/html": [
       "<div>\n",
       "<style scoped>\n",
       "    .dataframe tbody tr th:only-of-type {\n",
       "        vertical-align: middle;\n",
       "    }\n",
       "\n",
       "    .dataframe tbody tr th {\n",
       "        vertical-align: top;\n",
       "    }\n",
       "\n",
       "    .dataframe thead th {\n",
       "        text-align: right;\n",
       "    }\n",
       "</style>\n",
       "<table border=\"1\" class=\"dataframe\">\n",
       "  <thead>\n",
       "    <tr style=\"text-align: right;\">\n",
       "      <th></th>\n",
       "      <th>name</th>\n",
       "      <th>id</th>\n",
       "      <th>minutes</th>\n",
       "      <th>contributor_id</th>\n",
       "      <th>submitted</th>\n",
       "      <th>tags</th>\n",
       "      <th>nutrition</th>\n",
       "      <th>n_steps</th>\n",
       "      <th>steps</th>\n",
       "      <th>description</th>\n",
       "      <th>ingredients</th>\n",
       "      <th>n_ingredients</th>\n",
       "    </tr>\n",
       "  </thead>\n",
       "  <tbody>\n",
       "    <tr>\n",
       "      <th>64441</th>\n",
       "      <td>crock pot sweet potatoes with apricot pie filling</td>\n",
       "      <td>289329</td>\n",
       "      <td>435</td>\n",
       "      <td>590105</td>\n",
       "      <td>2008-02-29</td>\n",
       "      <td>['course', 'main-ingredient', 'cuisine', 'prep...</td>\n",
       "      <td>[275.3, 8.0, 122.0, 13.0, 5.0, 18.0, 18.0]</td>\n",
       "      <td>4</td>\n",
       "      <td>['place potatoes in a 3-1 / 2 to 4 quart crock...</td>\n",
       "      <td>my mother thinks this sounds like the recipe s...</td>\n",
       "      <td>['sweet potatoes', 'garlic cloves', 'apricot f...</td>\n",
       "      <td>8</td>\n",
       "    </tr>\n",
       "    <tr>\n",
       "      <th>48212</th>\n",
       "      <td>chocolate chex caramel crunch</td>\n",
       "      <td>326622</td>\n",
       "      <td>15</td>\n",
       "      <td>161163</td>\n",
       "      <td>2008-09-22</td>\n",
       "      <td>['15-minutes-or-less', 'time-to-make', 'course...</td>\n",
       "      <td>[103.0, 7.0, 50.0, 2.0, 0.0, 16.0, 4.0]</td>\n",
       "      <td>15</td>\n",
       "      <td>['into large microwavable bowl , measure cerea...</td>\n",
       "      <td>caramelly goodness surrounds crunchy chocolate...</td>\n",
       "      <td>['chocolate chex', 'brown sugar', 'butter', 'l...</td>\n",
       "      <td>6</td>\n",
       "    </tr>\n",
       "    <tr>\n",
       "      <th>5672</th>\n",
       "      <td>another vegan banana bread</td>\n",
       "      <td>381275</td>\n",
       "      <td>75</td>\n",
       "      <td>1320621</td>\n",
       "      <td>2009-07-13</td>\n",
       "      <td>['time-to-make', 'course', 'preparation', 'bre...</td>\n",
       "      <td>[106.5, 5.0, 64.0, 13.0, 0.0, 2.0, 6.0]</td>\n",
       "      <td>6</td>\n",
       "      <td>['preheat oven to 350f', 'mash bananas in bowl...</td>\n",
       "      <td>this is a deliciously spicy and moist vegan ba...</td>\n",
       "      <td>['mashed bananas', 'kamut flour', 'sugar', 've...</td>\n",
       "      <td>10</td>\n",
       "    </tr>\n",
       "    <tr>\n",
       "      <th>169255</th>\n",
       "      <td>ricotta and pesto meatloaf</td>\n",
       "      <td>186989</td>\n",
       "      <td>75</td>\n",
       "      <td>340503</td>\n",
       "      <td>2006-09-20</td>\n",
       "      <td>['time-to-make', 'course', 'main-ingredient', ...</td>\n",
       "      <td>[449.3, 43.0, 24.0, 18.0, 65.0, 61.0, 5.0]</td>\n",
       "      <td>4</td>\n",
       "      <td>['knead first 3 ingredients together and then ...</td>\n",
       "      <td>for anyone who knows me, i am a pesto fanatic....</td>\n",
       "      <td>['ground beef', 'ricotta cheese', 'basil pesto...</td>\n",
       "      <td>5</td>\n",
       "    </tr>\n",
       "    <tr>\n",
       "      <th>13240</th>\n",
       "      <td>baked cabbage soup</td>\n",
       "      <td>197989</td>\n",
       "      <td>70</td>\n",
       "      <td>367022</td>\n",
       "      <td>2006-11-28</td>\n",
       "      <td>['time-to-make', 'course', 'preparation', 'occ...</td>\n",
       "      <td>[359.9, 32.0, 31.0, 36.0, 46.0, 59.0, 6.0]</td>\n",
       "      <td>6</td>\n",
       "      <td>['in a pot , saute chopped cabbage , and cook ...</td>\n",
       "      <td>an easy way to make every day ingredients into...</td>\n",
       "      <td>['bacon fat', 'cabbage', 'whole wheat bread', ...</td>\n",
       "      <td>6</td>\n",
       "    </tr>\n",
       "  </tbody>\n",
       "</table>\n",
       "</div>"
      ],
      "text/plain": [
       "                                                     name      id  minutes  \\\n",
       "64441   crock pot sweet potatoes with apricot pie filling  289329      435   \n",
       "48212                       chocolate chex caramel crunch  326622       15   \n",
       "5672                           another vegan banana bread  381275       75   \n",
       "169255                         ricotta and pesto meatloaf  186989       75   \n",
       "13240                                  baked cabbage soup  197989       70   \n",
       "\n",
       "        contributor_id   submitted  \\\n",
       "64441           590105  2008-02-29   \n",
       "48212           161163  2008-09-22   \n",
       "5672           1320621  2009-07-13   \n",
       "169255          340503  2006-09-20   \n",
       "13240           367022  2006-11-28   \n",
       "\n",
       "                                                     tags  \\\n",
       "64441   ['course', 'main-ingredient', 'cuisine', 'prep...   \n",
       "48212   ['15-minutes-or-less', 'time-to-make', 'course...   \n",
       "5672    ['time-to-make', 'course', 'preparation', 'bre...   \n",
       "169255  ['time-to-make', 'course', 'main-ingredient', ...   \n",
       "13240   ['time-to-make', 'course', 'preparation', 'occ...   \n",
       "\n",
       "                                         nutrition  n_steps  \\\n",
       "64441   [275.3, 8.0, 122.0, 13.0, 5.0, 18.0, 18.0]        4   \n",
       "48212      [103.0, 7.0, 50.0, 2.0, 0.0, 16.0, 4.0]       15   \n",
       "5672       [106.5, 5.0, 64.0, 13.0, 0.0, 2.0, 6.0]        6   \n",
       "169255  [449.3, 43.0, 24.0, 18.0, 65.0, 61.0, 5.0]        4   \n",
       "13240   [359.9, 32.0, 31.0, 36.0, 46.0, 59.0, 6.0]        6   \n",
       "\n",
       "                                                    steps  \\\n",
       "64441   ['place potatoes in a 3-1 / 2 to 4 quart crock...   \n",
       "48212   ['into large microwavable bowl , measure cerea...   \n",
       "5672    ['preheat oven to 350f', 'mash bananas in bowl...   \n",
       "169255  ['knead first 3 ingredients together and then ...   \n",
       "13240   ['in a pot , saute chopped cabbage , and cook ...   \n",
       "\n",
       "                                              description  \\\n",
       "64441   my mother thinks this sounds like the recipe s...   \n",
       "48212   caramelly goodness surrounds crunchy chocolate...   \n",
       "5672    this is a deliciously spicy and moist vegan ba...   \n",
       "169255  for anyone who knows me, i am a pesto fanatic....   \n",
       "13240   an easy way to make every day ingredients into...   \n",
       "\n",
       "                                              ingredients  n_ingredients  \n",
       "64441   ['sweet potatoes', 'garlic cloves', 'apricot f...              8  \n",
       "48212   ['chocolate chex', 'brown sugar', 'butter', 'l...              6  \n",
       "5672    ['mashed bananas', 'kamut flour', 'sugar', 've...             10  \n",
       "169255  ['ground beef', 'ricotta cheese', 'basil pesto...              5  \n",
       "13240   ['bacon fat', 'cabbage', 'whole wheat bread', ...              6  "
      ]
     },
     "execution_count": 14,
     "metadata": {},
     "output_type": "execute_result"
    }
   ],
   "source": [
    "sampled_recipes.head()"
   ]
  },
  {
   "cell_type": "code",
   "execution_count": 19,
   "metadata": {},
   "outputs": [
    {
     "data": {
      "text/html": [
       "<div>\n",
       "<style scoped>\n",
       "    .dataframe tbody tr th:only-of-type {\n",
       "        vertical-align: middle;\n",
       "    }\n",
       "\n",
       "    .dataframe tbody tr th {\n",
       "        vertical-align: top;\n",
       "    }\n",
       "\n",
       "    .dataframe thead th {\n",
       "        text-align: right;\n",
       "    }\n",
       "</style>\n",
       "<table border=\"1\" class=\"dataframe\">\n",
       "  <thead>\n",
       "    <tr style=\"text-align: right;\">\n",
       "      <th></th>\n",
       "      <th>user_id</th>\n",
       "      <th>recipe_id</th>\n",
       "      <th>date</th>\n",
       "      <th>rating</th>\n",
       "      <th>review</th>\n",
       "    </tr>\n",
       "  </thead>\n",
       "  <tbody>\n",
       "    <tr>\n",
       "      <th>0</th>\n",
       "      <td>38094</td>\n",
       "      <td>40893</td>\n",
       "      <td>2003-02-17</td>\n",
       "      <td>4</td>\n",
       "      <td>Great with a salad. Cooked on top of stove for...</td>\n",
       "    </tr>\n",
       "    <tr>\n",
       "      <th>1</th>\n",
       "      <td>1293707</td>\n",
       "      <td>40893</td>\n",
       "      <td>2011-12-21</td>\n",
       "      <td>5</td>\n",
       "      <td>So simple, so delicious! Great for chilly fall...</td>\n",
       "    </tr>\n",
       "    <tr>\n",
       "      <th>2</th>\n",
       "      <td>8937</td>\n",
       "      <td>44394</td>\n",
       "      <td>2002-12-01</td>\n",
       "      <td>4</td>\n",
       "      <td>This worked very well and is EASY.  I used not...</td>\n",
       "    </tr>\n",
       "    <tr>\n",
       "      <th>3</th>\n",
       "      <td>126440</td>\n",
       "      <td>85009</td>\n",
       "      <td>2010-02-27</td>\n",
       "      <td>5</td>\n",
       "      <td>I made the Mexican topping and took it to bunk...</td>\n",
       "    </tr>\n",
       "    <tr>\n",
       "      <th>4</th>\n",
       "      <td>57222</td>\n",
       "      <td>85009</td>\n",
       "      <td>2011-10-01</td>\n",
       "      <td>5</td>\n",
       "      <td>Made the cheddar bacon topping, adding a sprin...</td>\n",
       "    </tr>\n",
       "  </tbody>\n",
       "</table>\n",
       "</div>"
      ],
      "text/plain": [
       "   user_id  recipe_id        date  rating  \\\n",
       "0    38094      40893  2003-02-17       4   \n",
       "1  1293707      40893  2011-12-21       5   \n",
       "2     8937      44394  2002-12-01       4   \n",
       "3   126440      85009  2010-02-27       5   \n",
       "4    57222      85009  2011-10-01       5   \n",
       "\n",
       "                                              review  \n",
       "0  Great with a salad. Cooked on top of stove for...  \n",
       "1  So simple, so delicious! Great for chilly fall...  \n",
       "2  This worked very well and is EASY.  I used not...  \n",
       "3  I made the Mexican topping and took it to bunk...  \n",
       "4  Made the cheddar bacon topping, adding a sprin...  "
      ]
     },
     "execution_count": 19,
     "metadata": {},
     "output_type": "execute_result"
    }
   ],
   "source": [
    "reviews.head()"
   ]
  },
  {
   "cell_type": "code",
   "execution_count": 20,
   "metadata": {},
   "outputs": [],
   "source": [
    "ids = sampled_recipes['id'].unique()"
   ]
  },
  {
   "cell_type": "code",
   "execution_count": 22,
   "metadata": {},
   "outputs": [],
   "source": [
    "sampled_reviews = reviews[reviews['recipe_id'].isin(ids)]"
   ]
  },
  {
   "cell_type": "code",
   "execution_count": 23,
   "metadata": {},
   "outputs": [
    {
     "data": {
      "text/plain": [
       "(363415, 5)"
      ]
     },
     "execution_count": 23,
     "metadata": {},
     "output_type": "execute_result"
    }
   ],
   "source": [
    "sampled_reviews.shape"
   ]
  },
  {
   "cell_type": "code",
   "execution_count": 24,
   "metadata": {},
   "outputs": [
    {
     "data": {
      "text/plain": [
       "363415"
      ]
     },
     "execution_count": 24,
     "metadata": {},
     "output_type": "execute_result"
    }
   ],
   "source": [
    "len(sampled_reviews.merge(sampled_recipes, how='inner', left_on='recipe_id', right_on='id'))"
   ]
  },
  {
   "cell_type": "code",
   "execution_count": null,
   "metadata": {},
   "outputs": [],
   "source": []
  },
  {
   "cell_type": "code",
   "execution_count": null,
   "metadata": {},
   "outputs": [],
   "source": []
  },
  {
   "cell_type": "code",
   "execution_count": null,
   "metadata": {},
   "outputs": [],
   "source": []
  },
  {
   "cell_type": "code",
   "execution_count": null,
   "metadata": {},
   "outputs": [],
   "source": []
  },
  {
   "cell_type": "code",
   "execution_count": null,
   "metadata": {},
   "outputs": [],
   "source": []
  },
  {
   "cell_type": "code",
   "execution_count": null,
   "metadata": {},
   "outputs": [],
   "source": []
  },
  {
   "cell_type": "code",
   "execution_count": null,
   "metadata": {},
   "outputs": [],
   "source": []
  }
 ],
 "metadata": {
  "kernelspec": {
   "display_name": "Python 3",
   "language": "python",
   "name": "python3"
  },
  "language_info": {
   "codemirror_mode": {
    "name": "ipython",
    "version": 3
   },
   "file_extension": ".py",
   "mimetype": "text/x-python",
   "name": "python",
   "nbconvert_exporter": "python",
   "pygments_lexer": "ipython3",
   "version": "3.8.3"
  }
 },
 "nbformat": 4,
 "nbformat_minor": 4
}
